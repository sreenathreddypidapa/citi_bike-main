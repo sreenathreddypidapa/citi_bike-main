{
 "cells": [
  {
   "cell_type": "code",
   "execution_count": 4,
   "id": "4aba119e-8624-4c30-ad3c-49759f3f18d4",
   "metadata": {},
   "outputs": [],
   "source": [
    "import sys\n",
    "import os\n",
    "\n",
    "# Add the parent directory to the Python path\n",
    "sys.path.append(os.path.abspath(os.path.join(os.getcwd(), \"..\")))\n",
    "import src.config as config"
   ]
  },
  {
   "cell_type": "code",
   "execution_count": 5,
   "id": "136e4fe1",
   "metadata": {},
   "outputs": [],
   "source": [
    "from src.inference import fetch_hourly_rides, fetch_predictions"
   ]
  },
  {
   "cell_type": "code",
   "execution_count": 6,
   "id": "4deab100",
   "metadata": {},
   "outputs": [
    {
     "name": "stdout",
     "output_type": "stream",
     "text": [
      "2025-05-09 14:00:00-04:00\n",
      "2025-05-10 02:39:45,882 INFO: Closing external client and cleaning up certificates.\n",
      "Connection closed.\n",
      "2025-05-10 02:39:45,901 INFO: Initializing external client\n",
      "2025-05-10 02:39:45,901 INFO: Base URL: https://c.app.hopsworks.ai:443\n",
      "2025-05-10 02:39:46,418 INFO: Python Engine initialized.\n",
      "\n",
      "Logged in to project, explore it here https://c.app.hopsworks.ai:443/p/1213637\n",
      "Finished: Reading data from Hopsworks, using Hopsworks Feature Query Service (2.81s) \n",
      "                     pickup_hour pickup_location_id  rides\n",
      "0      2025-05-03 20:00:00+00:00              JC108      0\n",
      "1      2025-04-14 07:00:00+00:00              JC009      0\n",
      "2      2025-04-19 05:00:00+00:00              HB301      0\n",
      "3      2025-05-02 08:00:00+00:00              JC075      0\n",
      "4      2025-05-02 12:00:00+00:00              JC053      2\n",
      "...                          ...                ...    ...\n",
      "745178 2024-06-28 00:00:00+00:00              HB503      0\n",
      "745179 2025-01-08 16:00:00+00:00              JC018      0\n",
      "745180 2024-08-23 14:00:00+00:00              JC097      0\n",
      "745181 2024-06-03 03:00:00+00:00              JC108      0\n",
      "745182 2025-02-14 16:00:00+00:00              HB401      0\n",
      "\n",
      "[745183 rows x 3 columns]\n",
      "Finished: Reading data from Hopsworks, using Hopsworks Feature Query Service (1.46s) \n",
      "2025-05-10 02:39:52,351 INFO: Closing external client and cleaning up certificates.\n",
      "Connection closed.\n",
      "2025-05-10 02:39:52,355 INFO: Initializing external client\n",
      "2025-05-10 02:39:52,356 INFO: Base URL: https://c.app.hopsworks.ai:443\n",
      "2025-05-10 02:39:52,870 INFO: Python Engine initialized.\n",
      "\n",
      "Logged in to project, explore it here https://c.app.hopsworks.ai:443/p/1213637\n",
      "Finished: Reading data from Hopsworks, using Hopsworks Feature Query Service (0.41s) \n",
      "mnbdsjhv\n",
      "                   pickup_hour pickup_location_id  rides\n",
      "0    2025-05-09 22:00:00+00:00              HB409      0\n",
      "1    2025-05-09 20:00:00+00:00              HB103      0\n",
      "2    2025-05-09 18:00:00+00:00              HB302      6\n",
      "3    2025-05-09 23:00:00+00:00              JC013      0\n",
      "4    2025-05-09 16:00:00+00:00              JC102      0\n",
      "...                        ...                ...    ...\n",
      "1428 2025-05-09 23:00:00+00:00              HB507      0\n",
      "1429 2025-05-09 17:00:00+00:00              HB507      0\n",
      "1430 2025-05-09 20:00:00+00:00              HB607      0\n",
      "1431 2025-05-10 00:00:00+00:00              HB507      0\n",
      "1432 2025-05-09 18:00:00+00:00              HB507      0\n",
      "\n",
      "[1433 rows x 3 columns]\n",
      "sdwdsd\n",
      "    pickup_location_id  predicted_demand               pickup_hour\n",
      "0                JC093               0.0 2025-05-10 04:00:00+00:00\n",
      "1                JC006               3.0 2025-05-10 04:00:00+00:00\n",
      "2                HB402               0.0 2025-05-10 04:00:00+00:00\n",
      "3                JC009               6.0 2025-05-10 04:00:00+00:00\n",
      "4                JC104               4.0 2025-05-10 04:00:00+00:00\n",
      "..                 ...               ...                       ...\n",
      "248              JC013               2.0 2025-05-10 07:00:00+00:00\n",
      "249              JC095               0.0 2025-05-10 07:00:00+00:00\n",
      "250              HB402               1.0 2025-05-10 07:00:00+00:00\n",
      "251              HB303               3.0 2025-05-10 07:00:00+00:00\n",
      "252              HB501               1.0 2025-05-10 07:00:00+00:00\n",
      "\n",
      "[253 rows x 3 columns]\n"
     ]
    }
   ],
   "source": [
    "df1 = fetch_hourly_rides(12)\n",
    "df2 = fetch_predictions(12)\n",
    "print(\"mnbdsjhv\")\n",
    "print(df1)\n",
    "print(\"sdwdsd\")\n",
    "print(df2)"
   ]
  },
  {
   "cell_type": "code",
   "execution_count": 8,
   "id": "fb85ae1c",
   "metadata": {},
   "outputs": [],
   "source": [
    "import pandas as pd"
   ]
  },
  {
   "cell_type": "code",
   "execution_count": 9,
   "id": "cc2ec2b9",
   "metadata": {},
   "outputs": [
    {
     "name": "stdout",
     "output_type": "stream",
     "text": [
      "                  pickup_hour pickup_location_id  rides  predicted_demand\n",
      "0   2025-05-10 04:00:00+00:00              JC081      0               2.0\n",
      "1   2025-05-10 05:00:00+00:00              JC022      0               0.0\n",
      "2   2025-05-10 05:00:00+00:00              HB610      0               2.0\n",
      "3   2025-05-10 04:00:00+00:00              JC078      0               0.0\n",
      "4   2025-05-10 04:00:00+00:00              JC093      0               0.0\n",
      "..                        ...                ...    ...               ...\n",
      "161 2025-05-10 04:00:00+00:00              JC027      0               0.0\n",
      "162 2025-05-10 05:00:00+00:00              HB304      0              12.0\n",
      "163 2025-05-10 05:00:00+00:00              JC077      0               0.0\n",
      "164 2025-05-10 04:00:00+00:00              HB603      0               1.0\n",
      "165 2025-05-10 05:00:00+00:00              HB301      0               1.0\n",
      "\n",
      "[166 rows x 4 columns]\n"
     ]
    }
   ],
   "source": [
    "merged_df = pd.merge(df1, df2, on=[\"pickup_location_id\", \"pickup_hour\"])\n",
    "\n",
    "print(merged_df)"
   ]
  },
  {
   "cell_type": "code",
   "execution_count": 10,
   "id": "5a674c3b",
   "metadata": {},
   "outputs": [
    {
     "name": "stdout",
     "output_type": "stream",
     "text": [
      "['location', 'stationid', 'geometry']\n"
     ]
    }
   ],
   "source": [
    "import geopandas as gpd\n",
    "\n",
    "# Replace with the actual path to your downloaded .shp file\n",
    "shape_url = \"https://data.jerseycitynj.gov/api/explore/v2.1/catalog/datasets/citi-bike-locations-phase-1-system-map-3/exports/shp?lang=en&timezone=America%2FNew_York\"\n",
    "gdf = gpd.read_file(shape_url)\n",
    "\n",
    "print(gdf.columns.tolist())\n"
   ]
  }
 ],
 "metadata": {
  "kernelspec": {
   "display_name": "citiride_pred_env",
   "language": "python",
   "name": "python3"
  },
  "language_info": {
   "codemirror_mode": {
    "name": "ipython",
    "version": 3
   },
   "file_extension": ".py",
   "mimetype": "text/x-python",
   "name": "python",
   "nbconvert_exporter": "python",
   "pygments_lexer": "ipython3",
   "version": "3.11.11"
  }
 },
 "nbformat": 4,
 "nbformat_minor": 5
}
